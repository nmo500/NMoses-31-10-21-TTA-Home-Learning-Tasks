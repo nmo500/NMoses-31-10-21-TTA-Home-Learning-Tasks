{
 "cells": [
  {
   "cell_type": "code",
   "execution_count": 1,
   "metadata": {},
   "outputs": [],
   "source": [
    "#TASK ONE - THIS WORKS BUT I DO NOT KNOW HOW TO PUT A SPACE BETWEEN EACH NUMBER \n",
    "\n",
    "# 1.1 - open a data file and write a string with a new line per thing (?) \n",
    "# Not sure what the 10 is (play around later)\n",
    "\n",
    "# FROM 14\n",
    "\n",
    "my_file=open(\"task1_four_numbers.txt\",\"w\")\n",
    "\n",
    "for i in range (10):\n",
    "    my_file.write (str(i))\n",
    "    my_file.write(\"\\n\")\n",
    "\n",
    "my_file.close ()"
   ]
  },
  {
   "cell_type": "code",
   "execution_count": 2,
   "metadata": {},
   "outputs": [],
   "source": [
    "#1.2 - I think that this is writing the numbers\n",
    "\n",
    "my_file = open (\"task1_four_numbers.txt\",\"w\")\n",
    "\n",
    "my_file.write(str(7))\n",
    "my_file.write(str(45))\n",
    "my_file.write(str(83))\n",
    "my_file.write(str(21))\n",
    "\n",
    "my_file.close()\n"
   ]
  },
  {
   "cell_type": "code",
   "execution_count": 3,
   "metadata": {},
   "outputs": [
    {
     "name": "stdout",
     "output_type": "stream",
     "text": [
      "7458321\n"
     ]
    }
   ],
   "source": [
    "# 1.3 - read and print task_1_four_numbers\n",
    "\n",
    "with open (\"task1_four_numbers.txt\", \"r\") as myfile:\n",
    "    data = myfile.read()\n",
    "\n",
    "myfile.close\n",
    "\n",
    "print (data)   \n",
    "\n",
    "\n",
    "\n",
    "\n",
    "\n",
    "\n"
   ]
  },
  {
   "cell_type": "code",
   "execution_count": 4,
   "metadata": {},
   "outputs": [],
   "source": [
    "#1.4  amend the file\n",
    "\n",
    "my_file = open (\"task1_four_numbers.txt\", \"a\")\n",
    "\n",
    "my_file.write (\"    Wish I could put spaces between these numbers!!\")\n",
    "\n",
    "my_file.close ()"
   ]
  },
  {
   "cell_type": "code",
   "execution_count": 3,
   "metadata": {},
   "outputs": [
    {
     "name": "stdout",
     "output_type": "stream",
     "text": [
      "    Wish I could put spaces between these numbers!\n"
     ]
    }
   ],
   "source": [
    "# 1.5- i think this is reading file from task_1_four_numbers\n",
    "\n",
    "with open (\"task1_four_numbers.txt\", \"r\") as myfile:\n",
    "    data = myfile.read()\n",
    "\n",
    "myfile.close\n",
    "\n",
    "print (data)   \n"
   ]
  },
  {
   "cell_type": "code",
   "execution_count": 6,
   "metadata": {},
   "outputs": [
    {
     "name": "stdout",
     "output_type": "stream",
     "text": [
      "You have got a grade 1 to 3\n"
     ]
    }
   ],
   "source": [
    "#\n",
    "#TASK 2\n",
    "# ASK A STUDENT THEIR PERCENTAGE MARK, COVERT IT TO A GRADE - USE A FUNCTION CALLED 'MARK_GRADE'print\n",
    "\n",
    "percentage_score = int (input (\"what is your percentage?\"))\n",
    "\n",
    "def mark_grade ():\n",
    "    if percentage_score <=50:\n",
    "        print (\"You have got a grade 1 to 3\")\n",
    "\n",
    "    elif percentage_score >= 85:\n",
    "        print(\"You have got a grade 9!\")\n",
    "\n",
    "    else: print (\"You have got a grades 4 to 8\")\n",
    "\n",
    "mark_grade ()\n"
   ]
  },
  {
   "cell_type": "code",
   "execution_count": 109,
   "metadata": {},
   "outputs": [
    {
     "name": "stdout",
     "output_type": "stream",
     "text": [
      "Wow - you exceeded your target grade\n"
     ]
    }
   ],
   "source": [
    "# EXTENSION # - works but does not allow to convert mark to grade before comparing \n",
    "\n",
    "#Ask the user for their target grade and print this with their mark\n",
    "#• If their target grade > exam grade display a suitable message\n",
    "#• If their target grade = exam grade display a suitable message\n",
    "#• If their target grade < exam grade display a suitable message\n",
    "\n",
    "\n",
    "percentage_score = int (input (\"What percentage did you score?\"))\n",
    "target_grade    = int (input (\"What is your target grade?\"))\n",
    "\n",
    "def target_vs_actual ():\n",
    "    if percentage_score == target_grade:\n",
    "        print (\"Amazing - you got eactly what you expected!\")\n",
    "\n",
    "    elif percentage_score > target_grade:\n",
    "        print(\"Wow - you exceeded your target grade\")\n",
    "\n",
    "    else: print (\"You didn't reach your target range - try working harder next time!\")\n",
    "\n",
    "target_vs_actual ()"
   ]
  },
  {
   "cell_type": "code",
   "execution_count": 135,
   "metadata": {},
   "outputs": [
    {
     "ename": "IndentationError",
     "evalue": "unindent does not match any outer indentation level (<tokenize>, line 21)",
     "output_type": "error",
     "traceback": [
      "\u001b[1;36m  File \u001b[1;32m\"<tokenize>\"\u001b[1;36m, line \u001b[1;32m21\u001b[0m\n\u001b[1;33m    grade_achieved = int(grade_achieved)\u001b[0m\n\u001b[1;37m    ^\u001b[0m\n\u001b[1;31mIndentationError\u001b[0m\u001b[1;31m:\u001b[0m unindent does not match any outer indentation level\n"
     ]
    }
   ],
   "source": [
    "#EXTENSION - THIS ALLOWS YOU TO CONVERT TO A GRADE, BUT I CANNOT GET IT TO WORK!!\n",
    "# IT IS VERY CLOSE...!\n",
    "# IF I GET RID OF THE CODING UNDER 'ELSE', IT RUNS BUT STILL THE LOGIC DOES NOT WORK PROPERLY \n",
    "\n",
    "percentage_score = int (input (\"What percentage did you score?\"))\n",
    "\n",
    "def mark_grade():\n",
    "\n",
    "    if percentage_score <50:\n",
    "        print (\"You have got a grade C\")\n",
    "        grade_achieved = 3\n",
    "        grade_achieved = int(grade_achieved)\n",
    "        print (grade_achieved)\n",
    "\n",
    "    elif percentage_score > 85:\n",
    "        print(\"You have got a grade A!\")\n",
    "        grade_achieved = 1\n",
    "        grade_achieved = int(grade_achieved)\n",
    "        print (grade_achieved)\n",
    "\n",
    "    else: print (\"You have got a grade B\")\n",
    "                grade_achieved = 2\n",
    "            grade_achieved = int(grade_achieved)\n",
    "            print (grade_achieved)\n",
    "\n",
    "\n",
    "\n",
    "\n",
    "mark_grade ()\n",
    "\n",
    "\n",
    "\n",
    "\n",
    "target_grade = input(\"What was your target grade? - if A, input '1', if B input '2' and if C, put '3'\")\n",
    "target_grade = int(target_grade)\n",
    "\n",
    "if target_grade=grade_achieved:\n",
    "   print (\"Shame you didn't get the grade you wanted - better luck in your exams next time\")\n",
    "\n",
    "if target_grade < grade_achieved:\n",
    "    print (\"Well done - you exceeded your grade!\")\n",
    "\n",
    "else: print (\"You got your expected grade\")\n",
    "\n",
    "\n",
    "\n",
    "#elif input_number1\n",
    "\n",
    "\n",
    "   "
   ]
  },
  {
   "cell_type": "code",
   "execution_count": 5,
   "metadata": {},
   "outputs": [
    {
     "name": "stdout",
     "output_type": "stream",
     "text": [
      "Requirement already satisfied: numpy in c:\\users\\cdwm1\\appdata\\local\\programs\\python\\python310\\lib\\site-packages (1.21.4)Note: you may need to restart the kernel to use updated packages.\n"
     ]
    },
    {
     "name": "stderr",
     "output_type": "stream",
     "text": [
      "WARNING: You are using pip version 21.2.3; however, version 21.3.1 is available.\n",
      "You should consider upgrading via the 'C:\\Users\\cdwm1\\AppData\\Local\\Programs\\Python\\Python310\\python.exe -m pip install --upgrade pip' command.\n"
     ]
    },
    {
     "name": "stdout",
     "output_type": "stream",
     "text": [
      "\n"
     ]
    }
   ],
   "source": [
    "pip install numpy"
   ]
  },
  {
   "cell_type": "code",
   "execution_count": 10,
   "metadata": {},
   "outputs": [
    {
     "name": "stdout",
     "output_type": "stream",
     "text": [
      "[0 1 2 3 4 5 6 7 8 9]\n"
     ]
    }
   ],
   "source": [
    "# NUMPY TASK 1 - \n",
    "#\n",
    "# Create a 1D array of numbers from 0 to 9\n",
    "\n",
    "import numpy as np\n",
    "even = np.arange (10)\n",
    "print (even)\n",
    "\n",
    "\n",
    "\n"
   ]
  },
  {
   "cell_type": "code",
   "execution_count": 13,
   "metadata": {},
   "outputs": [
    {
     "name": "stdout",
     "output_type": "stream",
     "text": [
      "[0 1 2 3 4 5 6 7 8 9]\n"
     ]
    }
   ],
   "source": [
    "# NUMPY TASK 1\n",
    "# AN ALTERNATIVE WAY\n",
    "\n",
    "import numpy as np\n",
    "array = np.array ([0,1,2,3,4,5,6,7,8,9])\n",
    "print (array)"
   ]
  },
  {
   "cell_type": "code",
   "execution_count": 50,
   "metadata": {},
   "outputs": [
    {
     "name": "stdout",
     "output_type": "stream",
     "text": [
      "[[ True  True  True]\n",
      " [ True  True  True]\n",
      " [ True  True  True]]\n"
     ]
    }
   ],
   "source": [
    "# NUMPY TASK 2 - 3 X 3 ARRAY OF ALL BOOLEAN TRUE VALUES\n",
    "\n",
    "bool_arr = np.ones((3,3), dtype=bool)\n",
    "print(bool_arr)"
   ]
  },
  {
   "cell_type": "code",
   "execution_count": 48,
   "metadata": {},
   "outputs": [
    {
     "name": "stdout",
     "output_type": "stream",
     "text": [
      "[ True  True  True  True  True  True  True  True  True]\n"
     ]
    }
   ],
   "source": [
    "# Same 9 True values but NOT in 3 x 3 grid\n",
    "bool_arr = np.ones(9, dtype=bool)\n",
    "\n",
    "print(bool_arr)\n",
    "\n"
   ]
  },
  {
   "cell_type": "code",
   "execution_count": 56,
   "metadata": {},
   "outputs": [
    {
     "name": "stdout",
     "output_type": "stream",
     "text": [
      "[ 1  2  3  4  5  6  7  8  9 10]\n",
      "[1, 3, 5, 7, 9]\n"
     ]
    }
   ],
   "source": [
    "# NUMPY TASK 3 \n",
    "#  extract all odd numbers from array of 1-10\n",
    "\n",
    "import numpy as np\n",
    "array = np.array([1, 2, 3, 4, 5, 6, 7, 8, 9, 10]) \n",
    "print(array)\n",
    "\n",
    "odds = [n for n in array if n%2]\n",
    "print (odds)"
   ]
  },
  {
   "cell_type": "code",
   "execution_count": 58,
   "metadata": {},
   "outputs": [
    {
     "name": "stdout",
     "output_type": "stream",
     "text": [
      "[-1  2 -1  4 -1  6 -1  8 -1 10]\n"
     ]
    }
   ],
   "source": [
    "# NUMPY TASK 4 -\n",
    "# replace all odd numbers in an array \n",
    "# of 1-10 with the value -1\n",
    "# the % sign denotes the remainder when two numbers\n",
    "# are divided, so when the remainder of the numbers\n",
    "# in 'a' have a remainder of 1, these are 'odd values'\n",
    "# and then it makes all odd values '-1'\n",
    "\n",
    "import numpy as np \n",
    " \n",
    "a = np.array([ 1,  2,  3,  4,  5,  6,  7,  8,  9, 10]) \n",
    " \n",
    "odd_values = (a%2 == 1) \n",
    "a[odd_values] = -1 \n",
    "print (a)\n",
    "# array([-1,  2, -1,  4, -1,  6, -1,  8, -1, 10]) \n",
    "\n",
    " \n"
   ]
  },
  {
   "cell_type": "code",
   "execution_count": 59,
   "metadata": {},
   "outputs": [
    {
     "name": "stdout",
     "output_type": "stream",
     "text": [
      "[-1  2 -1  4 -1  6 -1  8 -1 10]\n"
     ]
    }
   ],
   "source": [
    "# NUMPY TASK 4 - SHORTER WAY\n",
    "# \n",
    "import numpy as np \n",
    " \n",
    "a = np.array([ 1,  2,  3,  4,  5,  6,  7,  8,  9, 10]) \n",
    "a[a%2 == 1] = -1  \n",
    "print (a)\n"
   ]
  },
  {
   "cell_type": "code",
   "execution_count": 64,
   "metadata": {},
   "outputs": [
    {
     "name": "stdout",
     "output_type": "stream",
     "text": [
      "1D Numpy array:\n",
      "[0 1 2 3 4 5 6 7 8 9]\n",
      "2D Numpy array:\n",
      "[[0 1 2 3 4]\n",
      " [5 6 7 8 9]]\n"
     ]
    }
   ],
   "source": [
    "# NUMPY TASK 5\n",
    "# Convert a 1D array to a 2D array with 2 rows\n",
    "\n",
    "# create 1D numpy array from a list\n",
    "arr = np.array([0, 1, 2, 3, 4, 5, 6, 7, 8, 9])\n",
    "print('1D Numpy array:')\n",
    "\n",
    "\n",
    "print(arr)\n",
    "\n",
    "arr_2d = np.reshape(arr, (2, 5))\n",
    "\n",
    "print('2D Numpy array:')\n",
    "print(arr_2d)\n",
    "\n",
    "\n"
   ]
  },
  {
   "cell_type": "code",
   "execution_count": 78,
   "metadata": {},
   "outputs": [
    {
     "name": "stdout",
     "output_type": "stream",
     "text": [
      "[[ 3  4  5  6]\n",
      " [ 7  8  9 10]\n",
      " [11 12 13 14]\n",
      " [15 16 17 18]]\n",
      "[[13 14 15 16]\n",
      " [17 18 19 20]\n",
      " [21 22 23 24]\n",
      " [25 26 27 28]]\n",
      "[[ 362  380  398  416]\n",
      " [ 666  700  734  768]\n",
      " [ 970 1020 1070 1120]\n",
      " [1274 1340 1406 1472]]\n",
      "Here is the total of each column:\n",
      " [3272 3440 3608 3776]\n",
      "And the total number when all the mulplied numbers are added together is:\n",
      " 14096\n"
     ]
    }
   ],
   "source": [
    "# NUMPY TASK 6 \n",
    "# Create two arrays a and b, stack these two \n",
    "# arrays vertically use the np.dot and \n",
    "# np.sum to calculate totals\n",
    "\n",
    "import numpy as np\n",
    "a = np.arange (3,19).reshape (4,4) \n",
    "b = np.arange (13,29).reshape (4,4\n",
    ") \n",
    "c = np.dot(a, b)\n",
    "\n",
    "sum = np.sum (c)\n",
    "\n",
    "e = np.sum(c,axis = 0)\n",
    "\n",
    "\n",
    "\n",
    "print (a)\n",
    "print (b)\n",
    "print(c)\n",
    "\n",
    "print(\"Here is the total of each column:\\n\", e)\n",
    "print (\"And the total number when all the mulplied numbers are added together is:\\n\",sum)"
   ]
  },
  {
   "cell_type": "code",
   "execution_count": null,
   "metadata": {},
   "outputs": [],
   "source": [
    "\"\"\"\n",
    "Extension:\n",
    "1. Create the following pattern without hardcoding. Use only NumPy functions.\n",
    "2. In two arrays a ( 1,2,3,4,5) and b ( 4,5,6,7,8,9) – remove all repeating items present in array b\n",
    "3. Get all items between 3 and 7 from a and b and sum themtogethe"
   ]
  },
  {
   "cell_type": "code",
   "execution_count": 137,
   "metadata": {},
   "outputs": [
    {
     "name": "stdout",
     "output_type": "stream",
     "text": [
      "[1 1 1 2 2 2 3 3 3 1 2 3 1 2 3 1 2 3]\n"
     ]
    }
   ],
   "source": [
    "#ext 1. Create the following pattern without hardcoding. Use only NumPy functions.\n",
    "\n",
    "import numpy as np\n",
    "\n",
    "arr1 = np.array([1, 1, 1])\n",
    "\n",
    "arr2 = np.array([2, 2, 2])\n",
    "\n",
    "arr3 = np.array([3, 3, 3])\n",
    "\n",
    "arr4 = np.array ([1,2, 3])\n",
    "\n",
    "arr = np.concatenate((arr1, arr2, arr3, arr4, arr4, arr4))\n",
    "\n",
    "print(arr)"
   ]
  },
  {
   "cell_type": "code",
   "execution_count": 157,
   "metadata": {},
   "outputs": [
    {
     "name": "stdout",
     "output_type": "stream",
     "text": [
      "{8, 9, 6, 7}\n"
     ]
    }
   ],
   "source": [
    "# 2. In two arrays a ( 1,2,3,4,5) and b ( 4,5,6,7,8,9) – remove all repeating items present in array b\n",
    "\n",
    "list_1 = np.array([ 1,2,3,4,5])\n",
    "\n",
    "list_2 = np.array([4,5,6,7,8,9])\n",
    "\n",
    "new_list_2 = set (list_2) - set (list_1)\n",
    "\n",
    "print (new_list_2)\n",
    "\n"
   ]
  },
  {
   "cell_type": "code",
   "execution_count": null,
   "metadata": {},
   "outputs": [],
   "source": [
    "# Get all items between 3 and 7 from a and b and sum them together\n",
    "# NOT MANAGED TO WORK THIS OUT YET - WILL KEEP TRYING AND PUSH LATER "
   ]
  }
 ],
 "metadata": {
  "interpreter": {
   "hash": "bfe0547c7cda29743affbad79d7ff1687d76e32f65ba5030d2ed44e04e0e3e8b"
  },
  "kernelspec": {
   "display_name": "Python 3.10.0 64-bit",
   "language": "python",
   "name": "python3"
  },
  "language_info": {
   "codemirror_mode": {
    "name": "ipython",
    "version": 3
   },
   "file_extension": ".py",
   "mimetype": "text/x-python",
   "name": "python",
   "nbconvert_exporter": "python",
   "pygments_lexer": "ipython3",
   "version": "3.10.0"
  },
  "orig_nbformat": 4
 },
 "nbformat": 4,
 "nbformat_minor": 2
}
